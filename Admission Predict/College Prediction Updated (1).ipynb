{
 "cells": [
  {
   "cell_type": "code",
   "execution_count": 1,
   "id": "9cf8b7fc",
   "metadata": {},
   "outputs": [],
   "source": [
    "import pandas as pd\n",
    "import numpy as np\n",
    "import seaborn as sns\n",
    "import matplotlib.pyplot as plt"
   ]
  },
  {
   "cell_type": "code",
   "execution_count": 2,
   "id": "0dd78e11",
   "metadata": {},
   "outputs": [],
   "source": [
    "df = pd.read_csv('C:/Users/DEV/Downloads/admission_predict.csv')"
   ]
  },
  {
   "cell_type": "code",
   "execution_count": 3,
   "id": "1dccf56c",
   "metadata": {},
   "outputs": [
    {
     "data": {
      "text/plain": [
       "(500, 9)"
      ]
     },
     "execution_count": 3,
     "metadata": {},
     "output_type": "execute_result"
    }
   ],
   "source": [
    "# Finding the shape of the dataset\n",
    "df.shape"
   ]
  },
  {
   "cell_type": "code",
   "execution_count": 4,
   "id": "d72de397",
   "metadata": {},
   "outputs": [
    {
     "name": "stdout",
     "output_type": "stream",
     "text": [
      "<class 'pandas.core.frame.DataFrame'>\n",
      "RangeIndex: 500 entries, 0 to 499\n",
      "Data columns (total 9 columns):\n",
      " #   Column             Non-Null Count  Dtype  \n",
      "---  ------             --------------  -----  \n",
      " 0   Serial No.         500 non-null    int64  \n",
      " 1   GRE Score          500 non-null    int64  \n",
      " 2   TOEFL Score        500 non-null    int64  \n",
      " 3   University Rating  500 non-null    int64  \n",
      " 4   SOP                500 non-null    float64\n",
      " 5   LOR                500 non-null    float64\n",
      " 6   CGPA               500 non-null    float64\n",
      " 7   Research           500 non-null    int64  \n",
      " 8   Chance of Admit    500 non-null    float64\n",
      "dtypes: float64(4), int64(5)\n",
      "memory usage: 35.3 KB\n"
     ]
    }
   ],
   "source": [
    "# Getting The information about columns in the dataset\n",
    "df.info()"
   ]
  },
  {
   "cell_type": "code",
   "execution_count": 5,
   "id": "9dac0174",
   "metadata": {},
   "outputs": [
    {
     "data": {
      "text/html": [
       "<div>\n",
       "<style scoped>\n",
       "    .dataframe tbody tr th:only-of-type {\n",
       "        vertical-align: middle;\n",
       "    }\n",
       "\n",
       "    .dataframe tbody tr th {\n",
       "        vertical-align: top;\n",
       "    }\n",
       "\n",
       "    .dataframe thead th {\n",
       "        text-align: right;\n",
       "    }\n",
       "</style>\n",
       "<table border=\"1\" class=\"dataframe\">\n",
       "  <thead>\n",
       "    <tr style=\"text-align: right;\">\n",
       "      <th></th>\n",
       "      <th>Serial No.</th>\n",
       "      <th>GRE Score</th>\n",
       "      <th>TOEFL Score</th>\n",
       "      <th>University Rating</th>\n",
       "      <th>SOP</th>\n",
       "      <th>LOR</th>\n",
       "      <th>CGPA</th>\n",
       "      <th>Research</th>\n",
       "      <th>Chance of Admit</th>\n",
       "    </tr>\n",
       "  </thead>\n",
       "  <tbody>\n",
       "    <tr>\n",
       "      <th>0</th>\n",
       "      <td>1</td>\n",
       "      <td>337</td>\n",
       "      <td>118</td>\n",
       "      <td>4</td>\n",
       "      <td>4.5</td>\n",
       "      <td>4.5</td>\n",
       "      <td>9.65</td>\n",
       "      <td>1</td>\n",
       "      <td>0.92</td>\n",
       "    </tr>\n",
       "    <tr>\n",
       "      <th>1</th>\n",
       "      <td>2</td>\n",
       "      <td>324</td>\n",
       "      <td>107</td>\n",
       "      <td>4</td>\n",
       "      <td>4.0</td>\n",
       "      <td>4.5</td>\n",
       "      <td>8.87</td>\n",
       "      <td>1</td>\n",
       "      <td>0.76</td>\n",
       "    </tr>\n",
       "    <tr>\n",
       "      <th>2</th>\n",
       "      <td>3</td>\n",
       "      <td>316</td>\n",
       "      <td>104</td>\n",
       "      <td>3</td>\n",
       "      <td>3.0</td>\n",
       "      <td>3.5</td>\n",
       "      <td>8.00</td>\n",
       "      <td>1</td>\n",
       "      <td>0.72</td>\n",
       "    </tr>\n",
       "    <tr>\n",
       "      <th>3</th>\n",
       "      <td>4</td>\n",
       "      <td>322</td>\n",
       "      <td>110</td>\n",
       "      <td>3</td>\n",
       "      <td>3.5</td>\n",
       "      <td>2.5</td>\n",
       "      <td>8.67</td>\n",
       "      <td>1</td>\n",
       "      <td>0.80</td>\n",
       "    </tr>\n",
       "    <tr>\n",
       "      <th>4</th>\n",
       "      <td>5</td>\n",
       "      <td>314</td>\n",
       "      <td>103</td>\n",
       "      <td>2</td>\n",
       "      <td>2.0</td>\n",
       "      <td>3.0</td>\n",
       "      <td>8.21</td>\n",
       "      <td>0</td>\n",
       "      <td>0.65</td>\n",
       "    </tr>\n",
       "    <tr>\n",
       "      <th>...</th>\n",
       "      <td>...</td>\n",
       "      <td>...</td>\n",
       "      <td>...</td>\n",
       "      <td>...</td>\n",
       "      <td>...</td>\n",
       "      <td>...</td>\n",
       "      <td>...</td>\n",
       "      <td>...</td>\n",
       "      <td>...</td>\n",
       "    </tr>\n",
       "    <tr>\n",
       "      <th>495</th>\n",
       "      <td>496</td>\n",
       "      <td>332</td>\n",
       "      <td>108</td>\n",
       "      <td>5</td>\n",
       "      <td>4.5</td>\n",
       "      <td>4.0</td>\n",
       "      <td>9.02</td>\n",
       "      <td>1</td>\n",
       "      <td>0.87</td>\n",
       "    </tr>\n",
       "    <tr>\n",
       "      <th>496</th>\n",
       "      <td>497</td>\n",
       "      <td>337</td>\n",
       "      <td>117</td>\n",
       "      <td>5</td>\n",
       "      <td>5.0</td>\n",
       "      <td>5.0</td>\n",
       "      <td>9.87</td>\n",
       "      <td>1</td>\n",
       "      <td>0.96</td>\n",
       "    </tr>\n",
       "    <tr>\n",
       "      <th>497</th>\n",
       "      <td>498</td>\n",
       "      <td>330</td>\n",
       "      <td>120</td>\n",
       "      <td>5</td>\n",
       "      <td>4.5</td>\n",
       "      <td>5.0</td>\n",
       "      <td>9.56</td>\n",
       "      <td>1</td>\n",
       "      <td>0.93</td>\n",
       "    </tr>\n",
       "    <tr>\n",
       "      <th>498</th>\n",
       "      <td>499</td>\n",
       "      <td>312</td>\n",
       "      <td>103</td>\n",
       "      <td>4</td>\n",
       "      <td>4.0</td>\n",
       "      <td>5.0</td>\n",
       "      <td>8.43</td>\n",
       "      <td>0</td>\n",
       "      <td>0.73</td>\n",
       "    </tr>\n",
       "    <tr>\n",
       "      <th>499</th>\n",
       "      <td>500</td>\n",
       "      <td>327</td>\n",
       "      <td>113</td>\n",
       "      <td>4</td>\n",
       "      <td>4.5</td>\n",
       "      <td>4.5</td>\n",
       "      <td>9.04</td>\n",
       "      <td>0</td>\n",
       "      <td>0.84</td>\n",
       "    </tr>\n",
       "  </tbody>\n",
       "</table>\n",
       "<p>500 rows × 9 columns</p>\n",
       "</div>"
      ],
      "text/plain": [
       "     Serial No.  GRE Score  TOEFL Score  University Rating  SOP  LOR   CGPA  \\\n",
       "0             1        337          118                  4  4.5   4.5  9.65   \n",
       "1             2        324          107                  4  4.0   4.5  8.87   \n",
       "2             3        316          104                  3  3.0   3.5  8.00   \n",
       "3             4        322          110                  3  3.5   2.5  8.67   \n",
       "4             5        314          103                  2  2.0   3.0  8.21   \n",
       "..          ...        ...          ...                ...  ...   ...   ...   \n",
       "495         496        332          108                  5  4.5   4.0  9.02   \n",
       "496         497        337          117                  5  5.0   5.0  9.87   \n",
       "497         498        330          120                  5  4.5   5.0  9.56   \n",
       "498         499        312          103                  4  4.0   5.0  8.43   \n",
       "499         500        327          113                  4  4.5   4.5  9.04   \n",
       "\n",
       "     Research  Chance of Admit   \n",
       "0           1              0.92  \n",
       "1           1              0.76  \n",
       "2           1              0.72  \n",
       "3           1              0.80  \n",
       "4           0              0.65  \n",
       "..        ...               ...  \n",
       "495         1              0.87  \n",
       "496         1              0.96  \n",
       "497         1              0.93  \n",
       "498         0              0.73  \n",
       "499         0              0.84  \n",
       "\n",
       "[500 rows x 9 columns]"
      ]
     },
     "execution_count": 5,
     "metadata": {},
     "output_type": "execute_result"
    }
   ],
   "source": [
    "df"
   ]
  },
  {
   "cell_type": "code",
   "execution_count": 6,
   "id": "ae361e35",
   "metadata": {},
   "outputs": [
    {
     "data": {
      "text/html": [
       "<div>\n",
       "<style scoped>\n",
       "    .dataframe tbody tr th:only-of-type {\n",
       "        vertical-align: middle;\n",
       "    }\n",
       "\n",
       "    .dataframe tbody tr th {\n",
       "        vertical-align: top;\n",
       "    }\n",
       "\n",
       "    .dataframe thead th {\n",
       "        text-align: right;\n",
       "    }\n",
       "</style>\n",
       "<table border=\"1\" class=\"dataframe\">\n",
       "  <thead>\n",
       "    <tr style=\"text-align: right;\">\n",
       "      <th></th>\n",
       "      <th>count</th>\n",
       "      <th>mean</th>\n",
       "      <th>std</th>\n",
       "      <th>min</th>\n",
       "      <th>25%</th>\n",
       "      <th>50%</th>\n",
       "      <th>75%</th>\n",
       "      <th>max</th>\n",
       "    </tr>\n",
       "  </thead>\n",
       "  <tbody>\n",
       "    <tr>\n",
       "      <th>Serial No.</th>\n",
       "      <td>500.0</td>\n",
       "      <td>250.50000</td>\n",
       "      <td>144.481833</td>\n",
       "      <td>1.00</td>\n",
       "      <td>125.7500</td>\n",
       "      <td>250.50</td>\n",
       "      <td>375.25</td>\n",
       "      <td>500.00</td>\n",
       "    </tr>\n",
       "    <tr>\n",
       "      <th>GRE Score</th>\n",
       "      <td>500.0</td>\n",
       "      <td>316.47200</td>\n",
       "      <td>11.295148</td>\n",
       "      <td>290.00</td>\n",
       "      <td>308.0000</td>\n",
       "      <td>317.00</td>\n",
       "      <td>325.00</td>\n",
       "      <td>340.00</td>\n",
       "    </tr>\n",
       "    <tr>\n",
       "      <th>TOEFL Score</th>\n",
       "      <td>500.0</td>\n",
       "      <td>107.19200</td>\n",
       "      <td>6.081868</td>\n",
       "      <td>92.00</td>\n",
       "      <td>103.0000</td>\n",
       "      <td>107.00</td>\n",
       "      <td>112.00</td>\n",
       "      <td>120.00</td>\n",
       "    </tr>\n",
       "    <tr>\n",
       "      <th>University Rating</th>\n",
       "      <td>500.0</td>\n",
       "      <td>3.11400</td>\n",
       "      <td>1.143512</td>\n",
       "      <td>1.00</td>\n",
       "      <td>2.0000</td>\n",
       "      <td>3.00</td>\n",
       "      <td>4.00</td>\n",
       "      <td>5.00</td>\n",
       "    </tr>\n",
       "    <tr>\n",
       "      <th>SOP</th>\n",
       "      <td>500.0</td>\n",
       "      <td>3.37400</td>\n",
       "      <td>0.991004</td>\n",
       "      <td>1.00</td>\n",
       "      <td>2.5000</td>\n",
       "      <td>3.50</td>\n",
       "      <td>4.00</td>\n",
       "      <td>5.00</td>\n",
       "    </tr>\n",
       "    <tr>\n",
       "      <th>LOR</th>\n",
       "      <td>500.0</td>\n",
       "      <td>3.48400</td>\n",
       "      <td>0.925450</td>\n",
       "      <td>1.00</td>\n",
       "      <td>3.0000</td>\n",
       "      <td>3.50</td>\n",
       "      <td>4.00</td>\n",
       "      <td>5.00</td>\n",
       "    </tr>\n",
       "    <tr>\n",
       "      <th>CGPA</th>\n",
       "      <td>500.0</td>\n",
       "      <td>8.57644</td>\n",
       "      <td>0.604813</td>\n",
       "      <td>6.80</td>\n",
       "      <td>8.1275</td>\n",
       "      <td>8.56</td>\n",
       "      <td>9.04</td>\n",
       "      <td>9.92</td>\n",
       "    </tr>\n",
       "    <tr>\n",
       "      <th>Research</th>\n",
       "      <td>500.0</td>\n",
       "      <td>0.56000</td>\n",
       "      <td>0.496884</td>\n",
       "      <td>0.00</td>\n",
       "      <td>0.0000</td>\n",
       "      <td>1.00</td>\n",
       "      <td>1.00</td>\n",
       "      <td>1.00</td>\n",
       "    </tr>\n",
       "    <tr>\n",
       "      <th>Chance of Admit</th>\n",
       "      <td>500.0</td>\n",
       "      <td>0.72174</td>\n",
       "      <td>0.141140</td>\n",
       "      <td>0.34</td>\n",
       "      <td>0.6300</td>\n",
       "      <td>0.72</td>\n",
       "      <td>0.82</td>\n",
       "      <td>0.97</td>\n",
       "    </tr>\n",
       "  </tbody>\n",
       "</table>\n",
       "</div>"
      ],
      "text/plain": [
       "                   count       mean         std     min       25%     50%  \\\n",
       "Serial No.         500.0  250.50000  144.481833    1.00  125.7500  250.50   \n",
       "GRE Score          500.0  316.47200   11.295148  290.00  308.0000  317.00   \n",
       "TOEFL Score        500.0  107.19200    6.081868   92.00  103.0000  107.00   \n",
       "University Rating  500.0    3.11400    1.143512    1.00    2.0000    3.00   \n",
       "SOP                500.0    3.37400    0.991004    1.00    2.5000    3.50   \n",
       "LOR                500.0    3.48400    0.925450    1.00    3.0000    3.50   \n",
       "CGPA               500.0    8.57644    0.604813    6.80    8.1275    8.56   \n",
       "Research           500.0    0.56000    0.496884    0.00    0.0000    1.00   \n",
       "Chance of Admit    500.0    0.72174    0.141140    0.34    0.6300    0.72   \n",
       "\n",
       "                      75%     max  \n",
       "Serial No.         375.25  500.00  \n",
       "GRE Score          325.00  340.00  \n",
       "TOEFL Score        112.00  120.00  \n",
       "University Rating    4.00    5.00  \n",
       "SOP                  4.00    5.00  \n",
       "LOR                  4.00    5.00  \n",
       "CGPA                 9.04    9.92  \n",
       "Research             1.00    1.00  \n",
       "Chance of Admit      0.82    0.97  "
      ]
     },
     "execution_count": 6,
     "metadata": {},
     "output_type": "execute_result"
    }
   ],
   "source": [
    "# We drop the serial no column\n",
    "df.describe().T"
   ]
  },
  {
   "cell_type": "code",
   "execution_count": 7,
   "id": "46343746",
   "metadata": {},
   "outputs": [],
   "source": [
    "df.rename(columns = {'GRE Score':'GRE','TOEFL Score':'TOEFL','Chance of Admit ':'Probability','LOR ':'LOR'},inplace = True)"
   ]
  },
  {
   "cell_type": "code",
   "execution_count": 8,
   "id": "fad8d027",
   "metadata": {},
   "outputs": [
    {
     "data": {
      "text/html": [
       "<div>\n",
       "<style scoped>\n",
       "    .dataframe tbody tr th:only-of-type {\n",
       "        vertical-align: middle;\n",
       "    }\n",
       "\n",
       "    .dataframe tbody tr th {\n",
       "        vertical-align: top;\n",
       "    }\n",
       "\n",
       "    .dataframe thead th {\n",
       "        text-align: right;\n",
       "    }\n",
       "</style>\n",
       "<table border=\"1\" class=\"dataframe\">\n",
       "  <thead>\n",
       "    <tr style=\"text-align: right;\">\n",
       "      <th></th>\n",
       "      <th>Serial No.</th>\n",
       "      <th>GRE</th>\n",
       "      <th>TOEFL</th>\n",
       "      <th>University Rating</th>\n",
       "      <th>SOP</th>\n",
       "      <th>LOR</th>\n",
       "      <th>CGPA</th>\n",
       "      <th>Research</th>\n",
       "      <th>Probability</th>\n",
       "    </tr>\n",
       "  </thead>\n",
       "  <tbody>\n",
       "    <tr>\n",
       "      <th>0</th>\n",
       "      <td>1</td>\n",
       "      <td>337</td>\n",
       "      <td>118</td>\n",
       "      <td>4</td>\n",
       "      <td>4.5</td>\n",
       "      <td>4.5</td>\n",
       "      <td>9.65</td>\n",
       "      <td>1</td>\n",
       "      <td>0.92</td>\n",
       "    </tr>\n",
       "    <tr>\n",
       "      <th>1</th>\n",
       "      <td>2</td>\n",
       "      <td>324</td>\n",
       "      <td>107</td>\n",
       "      <td>4</td>\n",
       "      <td>4.0</td>\n",
       "      <td>4.5</td>\n",
       "      <td>8.87</td>\n",
       "      <td>1</td>\n",
       "      <td>0.76</td>\n",
       "    </tr>\n",
       "    <tr>\n",
       "      <th>2</th>\n",
       "      <td>3</td>\n",
       "      <td>316</td>\n",
       "      <td>104</td>\n",
       "      <td>3</td>\n",
       "      <td>3.0</td>\n",
       "      <td>3.5</td>\n",
       "      <td>8.00</td>\n",
       "      <td>1</td>\n",
       "      <td>0.72</td>\n",
       "    </tr>\n",
       "    <tr>\n",
       "      <th>3</th>\n",
       "      <td>4</td>\n",
       "      <td>322</td>\n",
       "      <td>110</td>\n",
       "      <td>3</td>\n",
       "      <td>3.5</td>\n",
       "      <td>2.5</td>\n",
       "      <td>8.67</td>\n",
       "      <td>1</td>\n",
       "      <td>0.80</td>\n",
       "    </tr>\n",
       "    <tr>\n",
       "      <th>4</th>\n",
       "      <td>5</td>\n",
       "      <td>314</td>\n",
       "      <td>103</td>\n",
       "      <td>2</td>\n",
       "      <td>2.0</td>\n",
       "      <td>3.0</td>\n",
       "      <td>8.21</td>\n",
       "      <td>0</td>\n",
       "      <td>0.65</td>\n",
       "    </tr>\n",
       "    <tr>\n",
       "      <th>...</th>\n",
       "      <td>...</td>\n",
       "      <td>...</td>\n",
       "      <td>...</td>\n",
       "      <td>...</td>\n",
       "      <td>...</td>\n",
       "      <td>...</td>\n",
       "      <td>...</td>\n",
       "      <td>...</td>\n",
       "      <td>...</td>\n",
       "    </tr>\n",
       "    <tr>\n",
       "      <th>495</th>\n",
       "      <td>496</td>\n",
       "      <td>332</td>\n",
       "      <td>108</td>\n",
       "      <td>5</td>\n",
       "      <td>4.5</td>\n",
       "      <td>4.0</td>\n",
       "      <td>9.02</td>\n",
       "      <td>1</td>\n",
       "      <td>0.87</td>\n",
       "    </tr>\n",
       "    <tr>\n",
       "      <th>496</th>\n",
       "      <td>497</td>\n",
       "      <td>337</td>\n",
       "      <td>117</td>\n",
       "      <td>5</td>\n",
       "      <td>5.0</td>\n",
       "      <td>5.0</td>\n",
       "      <td>9.87</td>\n",
       "      <td>1</td>\n",
       "      <td>0.96</td>\n",
       "    </tr>\n",
       "    <tr>\n",
       "      <th>497</th>\n",
       "      <td>498</td>\n",
       "      <td>330</td>\n",
       "      <td>120</td>\n",
       "      <td>5</td>\n",
       "      <td>4.5</td>\n",
       "      <td>5.0</td>\n",
       "      <td>9.56</td>\n",
       "      <td>1</td>\n",
       "      <td>0.93</td>\n",
       "    </tr>\n",
       "    <tr>\n",
       "      <th>498</th>\n",
       "      <td>499</td>\n",
       "      <td>312</td>\n",
       "      <td>103</td>\n",
       "      <td>4</td>\n",
       "      <td>4.0</td>\n",
       "      <td>5.0</td>\n",
       "      <td>8.43</td>\n",
       "      <td>0</td>\n",
       "      <td>0.73</td>\n",
       "    </tr>\n",
       "    <tr>\n",
       "      <th>499</th>\n",
       "      <td>500</td>\n",
       "      <td>327</td>\n",
       "      <td>113</td>\n",
       "      <td>4</td>\n",
       "      <td>4.5</td>\n",
       "      <td>4.5</td>\n",
       "      <td>9.04</td>\n",
       "      <td>0</td>\n",
       "      <td>0.84</td>\n",
       "    </tr>\n",
       "  </tbody>\n",
       "</table>\n",
       "<p>500 rows × 9 columns</p>\n",
       "</div>"
      ],
      "text/plain": [
       "     Serial No.  GRE  TOEFL  University Rating  SOP  LOR  CGPA  Research  \\\n",
       "0             1  337    118                  4  4.5  4.5  9.65         1   \n",
       "1             2  324    107                  4  4.0  4.5  8.87         1   \n",
       "2             3  316    104                  3  3.0  3.5  8.00         1   \n",
       "3             4  322    110                  3  3.5  2.5  8.67         1   \n",
       "4             5  314    103                  2  2.0  3.0  8.21         0   \n",
       "..          ...  ...    ...                ...  ...  ...   ...       ...   \n",
       "495         496  332    108                  5  4.5  4.0  9.02         1   \n",
       "496         497  337    117                  5  5.0  5.0  9.87         1   \n",
       "497         498  330    120                  5  4.5  5.0  9.56         1   \n",
       "498         499  312    103                  4  4.0  5.0  8.43         0   \n",
       "499         500  327    113                  4  4.5  4.5  9.04         0   \n",
       "\n",
       "     Probability  \n",
       "0           0.92  \n",
       "1           0.76  \n",
       "2           0.72  \n",
       "3           0.80  \n",
       "4           0.65  \n",
       "..           ...  \n",
       "495         0.87  \n",
       "496         0.96  \n",
       "497         0.93  \n",
       "498         0.73  \n",
       "499         0.84  \n",
       "\n",
       "[500 rows x 9 columns]"
      ]
     },
     "execution_count": 8,
     "metadata": {},
     "output_type": "execute_result"
    }
   ],
   "source": [
    "df"
   ]
  },
  {
   "cell_type": "markdown",
   "id": "a884912b",
   "metadata": {},
   "source": [
    "## Visualizations"
   ]
  },
  {
   "cell_type": "markdown",
   "id": "5d65fed8",
   "metadata": {},
   "source": [
    "### GRE Column"
   ]
  },
  {
   "cell_type": "code",
   "execution_count": 9,
   "id": "39b34d98",
   "metadata": {},
   "outputs": [
    {
     "data": {
      "text/plain": [
       "[]"
      ]
     },
     "execution_count": 9,
     "metadata": {},
     "output_type": "execute_result"
    },
    {
     "data": {
      "image/png": "[encoded data removed]",
      "text/plain": [
       "<Figure size 640x480 with 1 Axes>"
      ]
     },
     "metadata": {},
     "output_type": "display_data"
    }
   ],
   "source": [
    "plt.hist(df['GRE'],rwidth = 0.7)\n",
    "plt.title('Distribution of GRE')\n",
    "plt.xlabel('GRE')\n",
    "plt.ylabel('Count')\n",
    "plt.plot()"
   ]
  },
  {
   "cell_type": "code",
   "execution_count": 10,
   "id": "281aedd1",
   "metadata": {},
   "outputs": [
    {
     "data": {
      "text/plain": [
       "<AxesSubplot:xlabel='GRE', ylabel='Density'>"
      ]
     },
     "execution_count": 10,
     "metadata": {},
     "output_type": "execute_result"
    },
    {
     "data": {
      "image/png": "[encoded data removed]",
      "text/plain": [
       "<Figure size 640x480 with 1 Axes>"
      ]
     },
     "metadata": {},
     "output_type": "display_data"
    }
   ],
   "source": [
    "sns.kdeplot(data = df, x = 'GRE')"
   ]
  },
  {
   "cell_type": "code",
   "execution_count": 11,
   "id": "666f8305",
   "metadata": {},
   "outputs": [
    {
     "data": {
      "text/plain": [
       "316.472"
      ]
     },
     "execution_count": 11,
     "metadata": {},
     "output_type": "execute_result"
    }
   ],
   "source": [
    "df['GRE'].mean()"
   ]
  },
  {
   "cell_type": "code",
   "execution_count": 12,
   "id": "475d6ce8",
   "metadata": {},
   "outputs": [
    {
     "data": {
      "text/plain": [
       "-0.03984185809159066"
      ]
     },
     "execution_count": 12,
     "metadata": {},
     "output_type": "execute_result"
    }
   ],
   "source": [
    "df['GRE'].skew()"
   ]
  },
  {
   "cell_type": "markdown",
   "id": "31211d34",
   "metadata": {},
   "source": [
    "### TOEFL"
   ]
  },
  {
   "cell_type": "code",
   "execution_count": 13,
   "id": "a361ee08",
   "metadata": {},
   "outputs": [
    {
     "data": {
      "image/png": "[encoded data removed]",
      "text/plain": [
       "<Figure size 640x480 with 1 Axes>"
      ]
     },
     "metadata": {},
     "output_type": "display_data"
    }
   ],
   "source": [
    "# Visualziaign toefl\n",
    "plt.hist(df['TOEFL'],rwidth = 0.7)\n",
    "plt.title('Distribution of TOEFL')\n",
    "plt.xlabel('TOEFL')\n",
    "plt.ylabel('Count')\n",
    "plt.show()"
   ]
  },
  {
   "cell_type": "code",
   "execution_count": 14,
   "id": "574cd653",
   "metadata": {},
   "outputs": [
    {
     "data": {
      "text/plain": [
       "<AxesSubplot:xlabel='TOEFL', ylabel='Density'>"
      ]
     },
     "execution_count": 14,
     "metadata": {},
     "output_type": "execute_result"
    },
    {
     "data": {
      "image/png": "[encoded data removed]",
      "text/plain": [
       "<Figure size 640x480 with 1 Axes>"
      ]
     },
     "metadata": {},
     "output_type": "display_data"
    }
   ],
   "source": [
    "sns.kdeplot(data = df, x = 'TOEFL')"
   ]
  },
  {
   "cell_type": "code",
   "execution_count": 15,
   "id": "295861e1",
   "metadata": {},
   "outputs": [
    {
     "data": {
      "text/plain": [
       "107.192"
      ]
     },
     "execution_count": 15,
     "metadata": {},
     "output_type": "execute_result"
    }
   ],
   "source": [
    "df['TOEFL'].mean()"
   ]
  },
  {
   "cell_type": "code",
   "execution_count": 16,
   "id": "e8bcd53b",
   "metadata": {},
   "outputs": [
    {
     "data": {
      "text/plain": [
       "0.09560097235726285"
      ]
     },
     "execution_count": 16,
     "metadata": {},
     "output_type": "execute_result"
    }
   ],
   "source": [
    "df['TOEFL'].skew()"
   ]
  },
  {
   "cell_type": "markdown",
   "id": "3c963b88",
   "metadata": {},
   "source": [
    "### University Rating"
   ]
  },
  {
   "cell_type": "code",
   "execution_count": 17,
   "id": "fc854d6a",
   "metadata": {},
   "outputs": [
    {
     "data": {
      "text/plain": [
       "<AxesSubplot:xlabel='University Rating', ylabel='count'>"
      ]
     },
     "execution_count": 17,
     "metadata": {},
     "output_type": "execute_result"
    },
    {
     "data": {
      "image/png": "[encoded data removed]",
      "text/plain": [
       "<Figure size 640x480 with 1 Axes>"
      ]
     },
     "metadata": {},
     "output_type": "display_data"
    }
   ],
   "source": [
    "# University Rating\n",
    "sns.countplot(data = df, x = 'University Rating')"
   ]
  },
  {
   "cell_type": "code",
   "execution_count": 18,
   "id": "acbb17ef",
   "metadata": {},
   "outputs": [
    {
     "data": {
      "text/plain": [
       "0.09029498312712977"
      ]
     },
     "execution_count": 18,
     "metadata": {},
     "output_type": "execute_result"
    }
   ],
   "source": [
    "df['University Rating'].skew()"
   ]
  },
  {
   "cell_type": "code",
   "execution_count": 19,
   "id": "efa3d7c4",
   "metadata": {},
   "outputs": [
    {
     "data": {
      "text/plain": [
       "3.114"
      ]
     },
     "execution_count": 19,
     "metadata": {},
     "output_type": "execute_result"
    }
   ],
   "source": [
    "df['University Rating'].mean()"
   ]
  },
  {
   "cell_type": "markdown",
   "id": "d9c40017",
   "metadata": {},
   "source": [
    "### SOP"
   ]
  },
  {
   "cell_type": "code",
   "execution_count": 20,
   "id": "76a37c6c",
   "metadata": {},
   "outputs": [
    {
     "data": {
      "text/plain": [
       "(array([ 6., 25., 43., 64.,  0., 80., 88., 89., 63., 42.]),\n",
       " array([1. , 1.4, 1.8, 2.2, 2.6, 3. , 3.4, 3.8, 4.2, 4.6, 5. ]),\n",
       " <BarContainer object of 10 artists>)"
      ]
     },
     "execution_count": 20,
     "metadata": {},
     "output_type": "execute_result"
    },
    {
     "data": {
      "image/png": "[encoded data removed]",
      "text/plain": [
       "<Figure size 640x480 with 1 Axes>"
      ]
     },
     "metadata": {},
     "output_type": "display_data"
    }
   ],
   "source": [
    "plt.hist(df['SOP'],rwidth = 0.7)"
   ]
  },
  {
   "cell_type": "code",
   "execution_count": 21,
   "id": "07c8ac4a",
   "metadata": {},
   "outputs": [
    {
     "data": {
      "text/plain": [
       "<AxesSubplot:xlabel='SOP', ylabel='Density'>"
      ]
     },
     "execution_count": 21,
     "metadata": {},
     "output_type": "execute_result"
    },
    {
     "data": {
      "image/png": "[encoded data removed]",
      "text/plain": [
       "<Figure size 640x480 with 1 Axes>"
      ]
     },
     "metadata": {},
     "output_type": "display_data"
    }
   ],
   "source": [
    "sns.kdeplot(data = df, x = 'SOP')"
   ]
  },
  {
   "cell_type": "code",
   "execution_count": 22,
   "id": "f232f66d",
   "metadata": {},
   "outputs": [
    {
     "data": {
      "text/plain": [
       "3.374"
      ]
     },
     "execution_count": 22,
     "metadata": {},
     "output_type": "execute_result"
    }
   ],
   "source": [
    "df['SOP'].mean()"
   ]
  },
  {
   "cell_type": "code",
   "execution_count": 23,
   "id": "22d06b31",
   "metadata": {},
   "outputs": [
    {
     "data": {
      "text/plain": [
       "-0.22897239628779945"
      ]
     },
     "execution_count": 23,
     "metadata": {},
     "output_type": "execute_result"
    }
   ],
   "source": [
    "df['SOP'].skew()"
   ]
  },
  {
   "cell_type": "markdown",
   "id": "9f034577",
   "metadata": {},
   "source": [
    "### LOR"
   ]
  },
  {
   "cell_type": "code",
   "execution_count": 24,
   "id": "066662fb",
   "metadata": {},
   "outputs": [
    {
     "data": {
      "text/plain": [
       "Text(0.5, 1.0, 'Distribution of LOR')"
      ]
     },
     "execution_count": 24,
     "metadata": {},
     "output_type": "execute_result"
    },
    {
     "data": {
      "image/png": "[encoded data removed]",
      "text/plain": [
       "<Figure size 640x480 with 1 Axes>"
      ]
     },
     "metadata": {},
     "output_type": "display_data"
    }
   ],
   "source": [
    "plt.hist(df['LOR'],rwidth = 0.7)\n",
    "plt.xlabel('LOR')\n",
    "plt.ylabel('count')\n",
    "plt.title('Distribution of LOR')"
   ]
  },
  {
   "cell_type": "code",
   "execution_count": 25,
   "id": "98243a3c",
   "metadata": {},
   "outputs": [
    {
     "data": {
      "text/plain": [
       "<AxesSubplot:xlabel='LOR', ylabel='Density'>"
      ]
     },
     "execution_count": 25,
     "metadata": {},
     "output_type": "execute_result"
    },
    {
     "data": {
      "image/png": "[encoded data removed]",
      "text/plain": [
       "<Figure size 640x480 with 1 Axes>"
      ]
     },
     "metadata": {},
     "output_type": "display_data"
    }
   ],
   "source": [
    "sns.kdeplot(data = df, x = 'LOR')"
   ]
  },
  {
   "cell_type": "code",
   "execution_count": 26,
   "id": "152de2b7",
   "metadata": {},
   "outputs": [
    {
     "data": {
      "text/plain": [
       "3.484"
      ]
     },
     "execution_count": 26,
     "metadata": {},
     "output_type": "execute_result"
    }
   ],
   "source": [
    "df['LOR'].mean()"
   ]
  },
  {
   "cell_type": "code",
   "execution_count": 27,
   "id": "efe3f7ca",
   "metadata": {},
   "outputs": [
    {
     "data": {
      "text/plain": [
       "-0.1452903146082398"
      ]
     },
     "execution_count": 27,
     "metadata": {},
     "output_type": "execute_result"
    }
   ],
   "source": [
    "df['LOR'].skew()"
   ]
  },
  {
   "cell_type": "markdown",
   "id": "43f068c4",
   "metadata": {},
   "source": [
    "### CGPA"
   ]
  },
  {
   "cell_type": "code",
   "execution_count": 28,
   "id": "a3f3eda4",
   "metadata": {},
   "outputs": [
    {
     "data": {
      "text/plain": [
       "Text(0.5, 1.0, 'Distribution of CGPA')"
      ]
     },
     "execution_count": 28,
     "metadata": {},
     "output_type": "execute_result"
    },
    {
     "data": {
      "image/png": "[encoded data removed]",
      "text/plain": [
       "<Figure size 640x480 with 1 Axes>"
      ]
     },
     "metadata": {},
     "output_type": "display_data"
    }
   ],
   "source": [
    "plt.hist(df['CGPA'],rwidth = 0.7)\n",
    "plt.xlabel('CGPA')\n",
    "plt.ylabel('count')\n",
    "plt.title('Distribution of CGPA')"
   ]
  },
  {
   "cell_type": "code",
   "execution_count": 29,
   "id": "0ee81cac",
   "metadata": {},
   "outputs": [
    {
     "data": {
      "text/plain": [
       "<AxesSubplot:xlabel='CGPA', ylabel='Density'>"
      ]
     },
     "execution_count": 29,
     "metadata": {},
     "output_type": "execute_result"
    },
    {
     "data": {
      "image/png": "[encoded data removed]",
      "text/plain": [
       "<Figure size 640x480 with 1 Axes>"
      ]
     },
     "metadata": {},
     "output_type": "display_data"
    }
   ],
   "source": [
    "sns.kdeplot(data = df, x= 'CGPA')"
   ]
  },
  {
   "cell_type": "code",
   "execution_count": 30,
   "id": "bb7265f7",
   "metadata": {},
   "outputs": [
    {
     "data": {
      "text/plain": [
       "8.576439999999998"
      ]
     },
     "execution_count": 30,
     "metadata": {},
     "output_type": "execute_result"
    }
   ],
   "source": [
    "df['CGPA'].mean()"
   ]
  },
  {
   "cell_type": "code",
   "execution_count": 31,
   "id": "6fbeb874",
   "metadata": {},
   "outputs": [
    {
     "data": {
      "text/plain": [
       "-0.026612517318359303"
      ]
     },
     "execution_count": 31,
     "metadata": {},
     "output_type": "execute_result"
    }
   ],
   "source": [
    "df['CGPA'].skew()"
   ]
  },
  {
   "cell_type": "markdown",
   "id": "663018b3",
   "metadata": {},
   "source": [
    "### Research "
   ]
  },
  {
   "cell_type": "code",
   "execution_count": 32,
   "id": "e47d2902",
   "metadata": {},
   "outputs": [
    {
     "data": {
      "text/plain": [
       "<AxesSubplot:ylabel='Research'>"
      ]
     },
     "execution_count": 32,
     "metadata": {},
     "output_type": "execute_result"
    },
    {
     "data": {
      "image/png": "[encoded data removed]",
      "text/plain": [
       "<Figure size 640x480 with 1 Axes>"
      ]
     },
     "metadata": {},
     "output_type": "display_data"
    }
   ],
   "source": [
    "df['Research'].value_counts().plot(kind = 'pie',autopct = '%.2f')"
   ]
  },
  {
   "cell_type": "markdown",
   "id": "b203b05d",
   "metadata": {},
   "source": [
    "### Probability"
   ]
  },
  {
   "cell_type": "code",
   "execution_count": 33,
   "id": "3407a257",
   "metadata": {},
   "outputs": [
    {
     "data": {
      "text/plain": [
       "Text(0.5, 1.0, 'DIstributino of Probability')"
      ]
     },
     "execution_count": 33,
     "metadata": {},
     "output_type": "execute_result"
    },
    {
     "data": {
      "image/png": "[encoded data removed]",
      "text/plain": [
       "<Figure size 640x480 with 1 Axes>"
      ]
     },
     "metadata": {},
     "output_type": "display_data"
    }
   ],
   "source": [
    "plt.hist(df['Probability'],rwidth = 0.7)\n",
    "plt.xlabel('Probability')\n",
    "plt.ylabel('Count')\n",
    "plt.title('DIstributino of Probability')"
   ]
  },
  {
   "cell_type": "code",
   "execution_count": 34,
   "id": "dd53f445",
   "metadata": {},
   "outputs": [
    {
     "data": {
      "text/plain": [
       "<AxesSubplot:xlabel='Probability', ylabel='Density'>"
      ]
     },
     "execution_count": 34,
     "metadata": {},
     "output_type": "execute_result"
    },
    {
     "data": {
      "image/png": "[encoded data removed]",
      "text/plain": [
       "<Figure size 640x480 with 1 Axes>"
      ]
     },
     "metadata": {},
     "output_type": "display_data"
    }
   ],
   "source": [
    "sns.kdeplot(data = df, x = 'Probability')"
   ]
  },
  {
   "cell_type": "code",
   "execution_count": 35,
   "id": "a3cf0b66",
   "metadata": {},
   "outputs": [
    {
     "data": {
      "text/plain": [
       "0.72174"
      ]
     },
     "execution_count": 35,
     "metadata": {},
     "output_type": "execute_result"
    }
   ],
   "source": [
    "df['Probability'].mean()"
   ]
  },
  {
   "cell_type": "code",
   "execution_count": 36,
   "id": "e3da97d5",
   "metadata": {},
   "outputs": [
    {
     "data": {
      "text/plain": [
       "-0.289966210041158"
      ]
     },
     "execution_count": 36,
     "metadata": {},
     "output_type": "execute_result"
    }
   ],
   "source": [
    "df['Probability'].skew()"
   ]
  },
  {
   "cell_type": "markdown",
   "id": "4a654cb5",
   "metadata": {},
   "source": [
    "## Feature Selection"
   ]
  },
  {
   "cell_type": "code",
   "execution_count": 37,
   "id": "d03a6cbe",
   "metadata": {},
   "outputs": [],
   "source": [
    "df = df.drop(columns = ['Serial No.'],axis = 1)"
   ]
  },
  {
   "cell_type": "code",
   "execution_count": 38,
   "id": "88f25e70",
   "metadata": {},
   "outputs": [
    {
     "data": {
      "text/html": [
       "<div>\n",
       "<style scoped>\n",
       "    .dataframe tbody tr th:only-of-type {\n",
       "        vertical-align: middle;\n",
       "    }\n",
       "\n",
       "    .dataframe tbody tr th {\n",
       "        vertical-align: top;\n",
       "    }\n",
       "\n",
       "    .dataframe thead th {\n",
       "        text-align: right;\n",
       "    }\n",
       "</style>\n",
       "<table border=\"1\" class=\"dataframe\">\n",
       "  <thead>\n",
       "    <tr style=\"text-align: right;\">\n",
       "      <th></th>\n",
       "      <th>GRE</th>\n",
       "      <th>TOEFL</th>\n",
       "      <th>University Rating</th>\n",
       "      <th>SOP</th>\n",
       "      <th>LOR</th>\n",
       "      <th>CGPA</th>\n",
       "      <th>Research</th>\n",
       "      <th>Probability</th>\n",
       "    </tr>\n",
       "  </thead>\n",
       "  <tbody>\n",
       "    <tr>\n",
       "      <th>0</th>\n",
       "      <td>337</td>\n",
       "      <td>118</td>\n",
       "      <td>4</td>\n",
       "      <td>4.5</td>\n",
       "      <td>4.5</td>\n",
       "      <td>9.65</td>\n",
       "      <td>1</td>\n",
       "      <td>0.92</td>\n",
       "    </tr>\n",
       "    <tr>\n",
       "      <th>1</th>\n",
       "      <td>324</td>\n",
       "      <td>107</td>\n",
       "      <td>4</td>\n",
       "      <td>4.0</td>\n",
       "      <td>4.5</td>\n",
       "      <td>8.87</td>\n",
       "      <td>1</td>\n",
       "      <td>0.76</td>\n",
       "    </tr>\n",
       "    <tr>\n",
       "      <th>2</th>\n",
       "      <td>316</td>\n",
       "      <td>104</td>\n",
       "      <td>3</td>\n",
       "      <td>3.0</td>\n",
       "      <td>3.5</td>\n",
       "      <td>8.00</td>\n",
       "      <td>1</td>\n",
       "      <td>0.72</td>\n",
       "    </tr>\n",
       "    <tr>\n",
       "      <th>3</th>\n",
       "      <td>322</td>\n",
       "      <td>110</td>\n",
       "      <td>3</td>\n",
       "      <td>3.5</td>\n",
       "      <td>2.5</td>\n",
       "      <td>8.67</td>\n",
       "      <td>1</td>\n",
       "      <td>0.80</td>\n",
       "    </tr>\n",
       "    <tr>\n",
       "      <th>4</th>\n",
       "      <td>314</td>\n",
       "      <td>103</td>\n",
       "      <td>2</td>\n",
       "      <td>2.0</td>\n",
       "      <td>3.0</td>\n",
       "      <td>8.21</td>\n",
       "      <td>0</td>\n",
       "      <td>0.65</td>\n",
       "    </tr>\n",
       "    <tr>\n",
       "      <th>...</th>\n",
       "      <td>...</td>\n",
       "      <td>...</td>\n",
       "      <td>...</td>\n",
       "      <td>...</td>\n",
       "      <td>...</td>\n",
       "      <td>...</td>\n",
       "      <td>...</td>\n",
       "      <td>...</td>\n",
       "    </tr>\n",
       "    <tr>\n",
       "      <th>495</th>\n",
       "      <td>332</td>\n",
       "      <td>108</td>\n",
       "      <td>5</td>\n",
       "      <td>4.5</td>\n",
       "      <td>4.0</td>\n",
       "      <td>9.02</td>\n",
       "      <td>1</td>\n",
       "      <td>0.87</td>\n",
       "    </tr>\n",
       "    <tr>\n",
       "      <th>496</th>\n",
       "      <td>337</td>\n",
       "      <td>117</td>\n",
       "      <td>5</td>\n",
       "      <td>5.0</td>\n",
       "      <td>5.0</td>\n",
       "      <td>9.87</td>\n",
       "      <td>1</td>\n",
       "      <td>0.96</td>\n",
       "    </tr>\n",
       "    <tr>\n",
       "      <th>497</th>\n",
       "      <td>330</td>\n",
       "      <td>120</td>\n",
       "      <td>5</td>\n",
       "      <td>4.5</td>\n",
       "      <td>5.0</td>\n",
       "      <td>9.56</td>\n",
       "      <td>1</td>\n",
       "      <td>0.93</td>\n",
       "    </tr>\n",
       "    <tr>\n",
       "      <th>498</th>\n",
       "      <td>312</td>\n",
       "      <td>103</td>\n",
       "      <td>4</td>\n",
       "      <td>4.0</td>\n",
       "      <td>5.0</td>\n",
       "      <td>8.43</td>\n",
       "      <td>0</td>\n",
       "      <td>0.73</td>\n",
       "    </tr>\n",
       "    <tr>\n",
       "      <th>499</th>\n",
       "      <td>327</td>\n",
       "      <td>113</td>\n",
       "      <td>4</td>\n",
       "      <td>4.5</td>\n",
       "      <td>4.5</td>\n",
       "      <td>9.04</td>\n",
       "      <td>0</td>\n",
       "      <td>0.84</td>\n",
       "    </tr>\n",
       "  </tbody>\n",
       "</table>\n",
       "<p>500 rows × 8 columns</p>\n",
       "</div>"
      ],
      "text/plain": [
       "     GRE  TOEFL  University Rating  SOP  LOR  CGPA  Research  Probability\n",
       "0    337    118                  4  4.5  4.5  9.65         1         0.92\n",
       "1    324    107                  4  4.0  4.5  8.87         1         0.76\n",
       "2    316    104                  3  3.0  3.5  8.00         1         0.72\n",
       "3    322    110                  3  3.5  2.5  8.67         1         0.80\n",
       "4    314    103                  2  2.0  3.0  8.21         0         0.65\n",
       "..   ...    ...                ...  ...  ...   ...       ...          ...\n",
       "495  332    108                  5  4.5  4.0  9.02         1         0.87\n",
       "496  337    117                  5  5.0  5.0  9.87         1         0.96\n",
       "497  330    120                  5  4.5  5.0  9.56         1         0.93\n",
       "498  312    103                  4  4.0  5.0  8.43         0         0.73\n",
       "499  327    113                  4  4.5  4.5  9.04         0         0.84\n",
       "\n",
       "[500 rows x 8 columns]"
      ]
     },
     "execution_count": 38,
     "metadata": {},
     "output_type": "execute_result"
    }
   ],
   "source": [
    "df"
   ]
  },
  {
   "cell_type": "markdown",
   "id": "a5712156",
   "metadata": {},
   "source": [
    "## Bivariate Analysis"
   ]
  },
  {
   "cell_type": "code",
   "execution_count": 39,
   "id": "4735dc0a",
   "metadata": {},
   "outputs": [
    {
     "data": {
      "text/html": [
       "<div>\n",
       "<style scoped>\n",
       "    .dataframe tbody tr th:only-of-type {\n",
       "        vertical-align: middle;\n",
       "    }\n",
       "\n",
       "    .dataframe tbody tr th {\n",
       "        vertical-align: top;\n",
       "    }\n",
       "\n",
       "    .dataframe thead th {\n",
       "        text-align: right;\n",
       "    }\n",
       "</style>\n",
       "<table border=\"1\" class=\"dataframe\">\n",
       "  <thead>\n",
       "    <tr style=\"text-align: right;\">\n",
       "      <th></th>\n",
       "      <th>GRE</th>\n",
       "      <th>TOEFL</th>\n",
       "      <th>University Rating</th>\n",
       "      <th>SOP</th>\n",
       "      <th>LOR</th>\n",
       "      <th>CGPA</th>\n",
       "      <th>Research</th>\n",
       "      <th>Probability</th>\n",
       "    </tr>\n",
       "  </thead>\n",
       "  <tbody>\n",
       "    <tr>\n",
       "      <th>GRE</th>\n",
       "      <td>1.000000</td>\n",
       "      <td>0.827200</td>\n",
       "      <td>0.635376</td>\n",
       "      <td>0.613498</td>\n",
       "      <td>0.524679</td>\n",
       "      <td>0.825878</td>\n",
       "      <td>0.563398</td>\n",
       "      <td>0.810351</td>\n",
       "    </tr>\n",
       "    <tr>\n",
       "      <th>TOEFL</th>\n",
       "      <td>0.827200</td>\n",
       "      <td>1.000000</td>\n",
       "      <td>0.649799</td>\n",
       "      <td>0.644410</td>\n",
       "      <td>0.541563</td>\n",
       "      <td>0.810574</td>\n",
       "      <td>0.467012</td>\n",
       "      <td>0.792228</td>\n",
       "    </tr>\n",
       "    <tr>\n",
       "      <th>University Rating</th>\n",
       "      <td>0.635376</td>\n",
       "      <td>0.649799</td>\n",
       "      <td>1.000000</td>\n",
       "      <td>0.728024</td>\n",
       "      <td>0.608651</td>\n",
       "      <td>0.705254</td>\n",
       "      <td>0.427047</td>\n",
       "      <td>0.690132</td>\n",
       "    </tr>\n",
       "    <tr>\n",
       "      <th>SOP</th>\n",
       "      <td>0.613498</td>\n",
       "      <td>0.644410</td>\n",
       "      <td>0.728024</td>\n",
       "      <td>1.000000</td>\n",
       "      <td>0.663707</td>\n",
       "      <td>0.712154</td>\n",
       "      <td>0.408116</td>\n",
       "      <td>0.684137</td>\n",
       "    </tr>\n",
       "    <tr>\n",
       "      <th>LOR</th>\n",
       "      <td>0.524679</td>\n",
       "      <td>0.541563</td>\n",
       "      <td>0.608651</td>\n",
       "      <td>0.663707</td>\n",
       "      <td>1.000000</td>\n",
       "      <td>0.637469</td>\n",
       "      <td>0.372526</td>\n",
       "      <td>0.645365</td>\n",
       "    </tr>\n",
       "    <tr>\n",
       "      <th>CGPA</th>\n",
       "      <td>0.825878</td>\n",
       "      <td>0.810574</td>\n",
       "      <td>0.705254</td>\n",
       "      <td>0.712154</td>\n",
       "      <td>0.637469</td>\n",
       "      <td>1.000000</td>\n",
       "      <td>0.501311</td>\n",
       "      <td>0.882413</td>\n",
       "    </tr>\n",
       "    <tr>\n",
       "      <th>Research</th>\n",
       "      <td>0.563398</td>\n",
       "      <td>0.467012</td>\n",
       "      <td>0.427047</td>\n",
       "      <td>0.408116</td>\n",
       "      <td>0.372526</td>\n",
       "      <td>0.501311</td>\n",
       "      <td>1.000000</td>\n",
       "      <td>0.545871</td>\n",
       "    </tr>\n",
       "    <tr>\n",
       "      <th>Probability</th>\n",
       "      <td>0.810351</td>\n",
       "      <td>0.792228</td>\n",
       "      <td>0.690132</td>\n",
       "      <td>0.684137</td>\n",
       "      <td>0.645365</td>\n",
       "      <td>0.882413</td>\n",
       "      <td>0.545871</td>\n",
       "      <td>1.000000</td>\n",
       "    </tr>\n",
       "  </tbody>\n",
       "</table>\n",
       "</div>"
      ],
      "text/plain": [
       "                        GRE     TOEFL  University Rating       SOP       LOR  \\\n",
       "GRE                1.000000  0.827200           0.635376  0.613498  0.524679   \n",
       "TOEFL              0.827200  1.000000           0.649799  0.644410  0.541563   \n",
       "University Rating  0.635376  0.649799           1.000000  0.728024  0.608651   \n",
       "SOP                0.613498  0.644410           0.728024  1.000000  0.663707   \n",
       "LOR                0.524679  0.541563           0.608651  0.663707  1.000000   \n",
       "CGPA               0.825878  0.810574           0.705254  0.712154  0.637469   \n",
       "Research           0.563398  0.467012           0.427047  0.408116  0.372526   \n",
       "Probability        0.810351  0.792228           0.690132  0.684137  0.645365   \n",
       "\n",
       "                       CGPA  Research  Probability  \n",
       "GRE                0.825878  0.563398     0.810351  \n",
       "TOEFL              0.810574  0.467012     0.792228  \n",
       "University Rating  0.705254  0.427047     0.690132  \n",
       "SOP                0.712154  0.408116     0.684137  \n",
       "LOR                0.637469  0.372526     0.645365  \n",
       "CGPA               1.000000  0.501311     0.882413  \n",
       "Research           0.501311  1.000000     0.545871  \n",
       "Probability        0.882413  0.545871     1.000000  "
      ]
     },
     "execution_count": 39,
     "metadata": {},
     "output_type": "execute_result"
    }
   ],
   "source": [
    "df.corr()"
   ]
  },
  {
   "cell_type": "code",
   "execution_count": 203,
   "id": "6eceff09",
   "metadata": {},
   "outputs": [
    {
     "data": {
      "text/plain": [
       "<AxesSubplot:>"
      ]
     },
     "execution_count": 203,
     "metadata": {},
     "output_type": "execute_result"
    },
    {
     "data": {
      "image/png": "[encoded data removed]",
      "text/plain": [
       "<Figure size 640x480 with 2 Axes>"
      ]
     },
     "metadata": {},
     "output_type": "display_data"
    }
   ],
   "source": [
    "sns.heatmap(df.corr(),annot=True)"
   ]
  },
  {
   "cell_type": "markdown",
   "id": "e40ada17",
   "metadata": {},
   "source": [
    "## Applying Train Test Split on the Data"
   ]
  },
  {
   "cell_type": "code",
   "execution_count": 42,
   "id": "8fee2cfa",
   "metadata": {},
   "outputs": [],
   "source": [
    "# Spliiting data in x and y\n",
    "def splitting_data(dataframe):\n",
    "    global x, y\n",
    "    x = dataframe.drop(columns = ['Probability'],axis =1)\n",
    "    y = dataframe['Probability']"
   ]
  },
  {
   "cell_type": "code",
   "execution_count": 59,
   "id": "d9383eca",
   "metadata": {},
   "outputs": [],
   "source": [
    "from sklearn.model_selection import train_test_split"
   ]
  },
  {
   "cell_type": "code",
   "execution_count": 60,
   "id": "47909228",
   "metadata": {},
   "outputs": [],
   "source": [
    "def tts(x,y):\n",
    "    global x_train,x_test,y_train,y_test\n",
    "    x_train,x_test,y_train,y_test = train_test_split(x,y,test_size = 0.2,random_state=42)"
   ]
  },
  {
   "cell_type": "markdown",
   "id": "3faceea2",
   "metadata": {},
   "source": [
    "## Developing Models"
   ]
  },
  {
   "cell_type": "markdown",
   "id": "832c0598",
   "metadata": {},
   "source": [
    "### Linear Regression"
   ]
  },
  {
   "cell_type": "code",
   "execution_count": 44,
   "id": "2b947b74",
   "metadata": {},
   "outputs": [],
   "source": [
    "# Importing the Library\n",
    "from sklearn.linear_model import LinearRegression"
   ]
  },
  {
   "cell_type": "code",
   "execution_count": 74,
   "id": "4e378e28",
   "metadata": {},
   "outputs": [],
   "source": [
    "# Creating an object of the Linear Regression\n",
    "def lin_reg(ob):                      # this the value for the object passed should be in strings\n",
    "    global a\n",
    "    ob = LinearRegression()\n",
    "    # Fitting the Data in the object\n",
    "    ob.fit(x_train,y_train)\n",
    "    # Predicting the values and storign it in a variable\n",
    "#     a = '{p}_pred'.format(p = ob)\n",
    "    a = ob.predict(x_test)\n",
    "    print(a)"
   ]
  },
  {
   "cell_type": "markdown",
   "id": "05253042",
   "metadata": {},
   "source": [
    "### Random Forest Regressor"
   ]
  },
  {
   "cell_type": "code",
   "execution_count": 47,
   "id": "b223889e",
   "metadata": {},
   "outputs": [],
   "source": [
    "# Importing The Library\n",
    "from sklearn.ensemble import RandomForestRegressor"
   ]
  },
  {
   "cell_type": "code",
   "execution_count": 67,
   "id": "dac1e88d",
   "metadata": {},
   "outputs": [],
   "source": [
    "def ranf_reg(ob):                    # this the value for the object passed should be in strings\n",
    "    global a\n",
    "    ob = RandomForestRegressor()\n",
    "    # Fitting the Data in the object\n",
    "    ob.fit(x_train,y_train)\n",
    "    # Predicting the values and storign it in a variable\n",
    "    a = '{p}_pred'.format(p = ob)\n",
    "    a = ob.predict(x_test)\n",
    "    print(a)"
   ]
  },
  {
   "cell_type": "markdown",
   "id": "78ac6464",
   "metadata": {},
   "source": [
    "### Adaboost Regressor"
   ]
  },
  {
   "cell_type": "code",
   "execution_count": 49,
   "id": "f1217f7b",
   "metadata": {},
   "outputs": [],
   "source": [
    "# importing the library\n",
    "from sklearn.ensemble import AdaBoostRegressor"
   ]
  },
  {
   "cell_type": "code",
   "execution_count": 79,
   "id": "b6437868",
   "metadata": {},
   "outputs": [],
   "source": [
    "def ab_reg(ob):                      # this the value for the object passed should be in strings\n",
    "    global a\n",
    "    ob = AdaBoostRegressor()\n",
    "    # Fitting the Data in the object\n",
    "    ob.fit(x_train,y_train)\n",
    "    # Predicting the values and storign it in a variable\n",
    "    a = '{p}_pred'.format(p = ob)\n",
    "    a = ob.predict(x_test)\n",
    "    print(a)"
   ]
  },
  {
   "cell_type": "markdown",
   "id": "cf94ee34",
   "metadata": {},
   "source": [
    "## Model Evaluation"
   ]
  },
  {
   "cell_type": "code",
   "execution_count": 51,
   "id": "68e4668f",
   "metadata": {},
   "outputs": [],
   "source": [
    "# importing the library\n",
    "from sklearn.metrics import r2_score"
   ]
  },
  {
   "cell_type": "code",
   "execution_count": 52,
   "id": "c45cff36",
   "metadata": {},
   "outputs": [],
   "source": [
    "# Defining the function for r2_score\n",
    "def r_two_score(actual_val, pred_val):\n",
    "    return r2_score(actual_val,pred_val)"
   ]
  },
  {
   "cell_type": "markdown",
   "id": "6626981f",
   "metadata": {},
   "source": [
    "## Dropping columns from dataframe"
   ]
  },
  {
   "cell_type": "code",
   "execution_count": 54,
   "id": "ed51e0b9",
   "metadata": {},
   "outputs": [],
   "source": [
    "def drop_column(drop_columns):\n",
    "    global df1\n",
    "    df1 = df.drop(columns = drop_columns, axis = 1)\n",
    "    return df1"
   ]
  },
  {
   "cell_type": "markdown",
   "id": "d59f3084",
   "metadata": {},
   "source": [
    "## Calling the Function"
   ]
  },
  {
   "cell_type": "code",
   "execution_count": 198,
   "id": "b59d90bf",
   "metadata": {},
   "outputs": [],
   "source": [
    "# calling without dropping any columns\n",
    "splitting_data(df)"
   ]
  },
  {
   "cell_type": "code",
   "execution_count": 199,
   "id": "ca5ad1d7",
   "metadata": {},
   "outputs": [],
   "source": [
    "tts(x,y)"
   ]
  },
  {
   "cell_type": "code",
   "execution_count": 200,
   "id": "2ad24d75",
   "metadata": {},
   "outputs": [
    {
     "name": "stdout",
     "output_type": "stream",
     "text": [
      "[0.91457473 0.79518127 0.57265986 0.70736968 0.81588282 0.86206561\n",
      " 0.47459746 0.64850923 0.82378728 0.80741498 0.72193204 0.72589118\n",
      " 0.65632227 0.93677168 0.8241518  0.50979177 0.83931942 0.59727295\n",
      " 0.53339576 0.57155958 0.66548168 0.55305833 0.72232308 0.79506004\n",
      " 0.78027648 0.60248654 0.94840363 0.84741471 0.62777011 0.74343096\n",
      " 0.55533035 0.73004034 0.54474225 0.86116288 0.65713016 0.7371816\n",
      " 0.55423839 0.95718977 0.64364267 0.71057279 0.97036982 0.57495143\n",
      " 0.67075391 0.85830422 0.94112903 0.57793762 0.9583926  0.83902765\n",
      " 0.79591651 0.92570648 0.88805969 0.56366238 0.70359711 0.52658929\n",
      " 0.9536427  0.59746814 0.95600396 0.73916386 0.66256982 0.5012903\n",
      " 0.62950759 0.68031188 0.59896721 0.59203806 0.44085868 0.58866369\n",
      " 0.8667547  0.89783006 0.65831807 0.70667392 0.6176818  0.78587721\n",
      " 0.69152566 0.56271019 0.5542953  0.65084583 0.84627224 0.86373777\n",
      " 0.53729574 0.63142139 0.76958036 0.84812916 0.61693172 0.8471071\n",
      " 0.73411583 0.6668525  0.60444455 0.73875671 0.78899999 0.66320147\n",
      " 0.7428225  0.90802002 0.91576583 0.65056489 0.77694407 0.43563138\n",
      " 0.68664259 0.78598826 0.73469446 0.64865736]\n"
     ]
    }
   ],
   "source": [
    "# Linear Regresion\n",
    "lin_reg('lr')"
   ]
  },
  {
   "cell_type": "code",
   "execution_count": 78,
   "id": "563953fe",
   "metadata": {},
   "outputs": [
    {
     "data": {
      "text/plain": [
       "0.8188432567829629"
      ]
     },
     "execution_count": 78,
     "metadata": {},
     "output_type": "execute_result"
    }
   ],
   "source": [
    "# calculating r2_score\n",
    "r_two_score(y_test,a)"
   ]
  },
  {
   "cell_type": "code",
   "execution_count": 80,
   "id": "390a96d6",
   "metadata": {},
   "outputs": [
    {
     "name": "stdout",
     "output_type": "stream",
     "text": [
      "[0.9392 0.7976 0.6081 0.7023 0.7982 0.8775 0.4843 0.6277 0.8452 0.7927\n",
      " 0.7271 0.7275 0.6614 0.9213 0.8603 0.5611 0.8298 0.5998 0.5508 0.5562\n",
      " 0.6445 0.531  0.7061 0.7565 0.763  0.6203 0.9373 0.8272 0.6587 0.7319\n",
      " 0.5567 0.7273 0.5399 0.8801 0.6374 0.7505 0.599  0.9411 0.6478 0.6783\n",
      " 0.9565 0.5586 0.7033 0.8282 0.9393 0.6203 0.9435 0.8081 0.7634 0.9289\n",
      " 0.8959 0.5365 0.6673 0.4749 0.9421 0.6279 0.9598 0.7347 0.6232 0.4133\n",
      " 0.6157 0.7062 0.6052 0.5263 0.4687 0.5689 0.9032 0.9042 0.684  0.7061\n",
      " 0.6133 0.7354 0.6994 0.5832 0.5762 0.61   0.8324 0.8691 0.5151 0.6806\n",
      " 0.6727 0.8793 0.6324 0.8376 0.7126 0.6643 0.6339 0.7448 0.7232 0.6983\n",
      " 0.7503 0.9244 0.9182 0.691  0.7673 0.4674 0.7045 0.7478 0.7268 0.6857]\n"
     ]
    }
   ],
   "source": [
    "# Random Forest Regressor\n",
    "ranf_reg('rf1')"
   ]
  },
  {
   "cell_type": "code",
   "execution_count": 81,
   "id": "af6eeb3a",
   "metadata": {},
   "outputs": [
    {
     "data": {
      "text/plain": [
       "0.7875353496332519"
      ]
     },
     "execution_count": 81,
     "metadata": {},
     "output_type": "execute_result"
    }
   ],
   "source": [
    "r_two_score(y_test,a)"
   ]
  },
  {
   "cell_type": "code",
   "execution_count": 82,
   "id": "6c06cef2",
   "metadata": {},
   "outputs": [
    {
     "name": "stdout",
     "output_type": "stream",
     "text": [
      "[0.90733333 0.76247788 0.59926829 0.68144186 0.74372093 0.8575\n",
      " 0.5084     0.66815385 0.81941176 0.74007519 0.69193548 0.69225352\n",
      " 0.61731707 0.91025641 0.81526316 0.51039216 0.80416667 0.53814159\n",
      " 0.53205128 0.55818182 0.626      0.51887755 0.69555556 0.71\n",
      " 0.68849673 0.57861111 0.8925     0.84368421 0.62910256 0.71121622\n",
      " 0.5502439  0.69888889 0.544      0.84368421 0.61731707 0.6888024\n",
      " 0.50253846 0.90733333 0.61639175 0.68849673 0.89666667 0.53730769\n",
      " 0.63111801 0.84117647 0.91923077 0.5685     0.91923077 0.80466667\n",
      " 0.75704545 0.87842105 0.85567568 0.55066038 0.68849673 0.49509804\n",
      " 0.91923077 0.61731707 0.91933333 0.71121622 0.66116129 0.44821429\n",
      " 0.60871795 0.63155556 0.53814159 0.54746667 0.44821429 0.61639175\n",
      " 0.84785714 0.8825     0.63792746 0.69193548 0.59777778 0.7000641\n",
      " 0.68849673 0.57333333 0.50253846 0.644      0.8325     0.84785714\n",
      " 0.50990291 0.626      0.65993548 0.84368421 0.61538462 0.82979167\n",
      " 0.69193548 0.64272727 0.59697674 0.68315068 0.755      0.644\n",
      " 0.7000641  0.87       0.8925     0.62494118 0.71277487 0.43783333\n",
      " 0.68366864 0.68094937 0.69193548 0.63155556]\n"
     ]
    }
   ],
   "source": [
    "# Adaboost Regression\n",
    "ab_reg('ab1')"
   ]
  },
  {
   "cell_type": "code",
   "execution_count": 83,
   "id": "6a47c411",
   "metadata": {},
   "outputs": [
    {
     "data": {
      "text/plain": [
       "0.7587214097500379"
      ]
     },
     "execution_count": 83,
     "metadata": {},
     "output_type": "execute_result"
    }
   ],
   "source": [
    "r_two_score(y_test,a)"
   ]
  },
  {
   "cell_type": "code",
   "execution_count": 187,
   "id": "904fdf1f",
   "metadata": {},
   "outputs": [
    {
     "data": {
      "text/html": [
       "<div>\n",
       "<style scoped>\n",
       "    .dataframe tbody tr th:only-of-type {\n",
       "        vertical-align: middle;\n",
       "    }\n",
       "\n",
       "    .dataframe tbody tr th {\n",
       "        vertical-align: top;\n",
       "    }\n",
       "\n",
       "    .dataframe thead th {\n",
       "        text-align: right;\n",
       "    }\n",
       "</style>\n",
       "<table border=\"1\" class=\"dataframe\">\n",
       "  <thead>\n",
       "    <tr style=\"text-align: right;\">\n",
       "      <th></th>\n",
       "      <th>University Rating</th>\n",
       "      <th>SOP</th>\n",
       "      <th>LOR</th>\n",
       "      <th>CGPA</th>\n",
       "      <th>Research</th>\n",
       "      <th>Probability</th>\n",
       "    </tr>\n",
       "  </thead>\n",
       "  <tbody>\n",
       "    <tr>\n",
       "      <th>0</th>\n",
       "      <td>4</td>\n",
       "      <td>4.5</td>\n",
       "      <td>4.5</td>\n",
       "      <td>9.65</td>\n",
       "      <td>1</td>\n",
       "      <td>0.92</td>\n",
       "    </tr>\n",
       "    <tr>\n",
       "      <th>1</th>\n",
       "      <td>4</td>\n",
       "      <td>4.0</td>\n",
       "      <td>4.5</td>\n",
       "      <td>8.87</td>\n",
       "      <td>1</td>\n",
       "      <td>0.76</td>\n",
       "    </tr>\n",
       "    <tr>\n",
       "      <th>2</th>\n",
       "      <td>3</td>\n",
       "      <td>3.0</td>\n",
       "      <td>3.5</td>\n",
       "      <td>8.00</td>\n",
       "      <td>1</td>\n",
       "      <td>0.72</td>\n",
       "    </tr>\n",
       "    <tr>\n",
       "      <th>3</th>\n",
       "      <td>3</td>\n",
       "      <td>3.5</td>\n",
       "      <td>2.5</td>\n",
       "      <td>8.67</td>\n",
       "      <td>1</td>\n",
       "      <td>0.80</td>\n",
       "    </tr>\n",
       "    <tr>\n",
       "      <th>4</th>\n",
       "      <td>2</td>\n",
       "      <td>2.0</td>\n",
       "      <td>3.0</td>\n",
       "      <td>8.21</td>\n",
       "      <td>0</td>\n",
       "      <td>0.65</td>\n",
       "    </tr>\n",
       "    <tr>\n",
       "      <th>...</th>\n",
       "      <td>...</td>\n",
       "      <td>...</td>\n",
       "      <td>...</td>\n",
       "      <td>...</td>\n",
       "      <td>...</td>\n",
       "      <td>...</td>\n",
       "    </tr>\n",
       "    <tr>\n",
       "      <th>495</th>\n",
       "      <td>5</td>\n",
       "      <td>4.5</td>\n",
       "      <td>4.0</td>\n",
       "      <td>9.02</td>\n",
       "      <td>1</td>\n",
       "      <td>0.87</td>\n",
       "    </tr>\n",
       "    <tr>\n",
       "      <th>496</th>\n",
       "      <td>5</td>\n",
       "      <td>5.0</td>\n",
       "      <td>5.0</td>\n",
       "      <td>9.87</td>\n",
       "      <td>1</td>\n",
       "      <td>0.96</td>\n",
       "    </tr>\n",
       "    <tr>\n",
       "      <th>497</th>\n",
       "      <td>5</td>\n",
       "      <td>4.5</td>\n",
       "      <td>5.0</td>\n",
       "      <td>9.56</td>\n",
       "      <td>1</td>\n",
       "      <td>0.93</td>\n",
       "    </tr>\n",
       "    <tr>\n",
       "      <th>498</th>\n",
       "      <td>4</td>\n",
       "      <td>4.0</td>\n",
       "      <td>5.0</td>\n",
       "      <td>8.43</td>\n",
       "      <td>0</td>\n",
       "      <td>0.73</td>\n",
       "    </tr>\n",
       "    <tr>\n",
       "      <th>499</th>\n",
       "      <td>4</td>\n",
       "      <td>4.5</td>\n",
       "      <td>4.5</td>\n",
       "      <td>9.04</td>\n",
       "      <td>0</td>\n",
       "      <td>0.84</td>\n",
       "    </tr>\n",
       "  </tbody>\n",
       "</table>\n",
       "<p>500 rows × 6 columns</p>\n",
       "</div>"
      ],
      "text/plain": [
       "     University Rating  SOP  LOR  CGPA  Research  Probability\n",
       "0                    4  4.5  4.5  9.65         1         0.92\n",
       "1                    4  4.0  4.5  8.87         1         0.76\n",
       "2                    3  3.0  3.5  8.00         1         0.72\n",
       "3                    3  3.5  2.5  8.67         1         0.80\n",
       "4                    2  2.0  3.0  8.21         0         0.65\n",
       "..                 ...  ...  ...   ...       ...          ...\n",
       "495                  5  4.5  4.0  9.02         1         0.87\n",
       "496                  5  5.0  5.0  9.87         1         0.96\n",
       "497                  5  4.5  5.0  9.56         1         0.93\n",
       "498                  4  4.0  5.0  8.43         0         0.73\n",
       "499                  4  4.5  4.5  9.04         0         0.84\n",
       "\n",
       "[500 rows x 6 columns]"
      ]
     },
     "execution_count": 187,
     "metadata": {},
     "output_type": "execute_result"
    }
   ],
   "source": [
    "drop_column(['GRE','TOEFL'])"
   ]
  },
  {
   "cell_type": "code",
   "execution_count": 188,
   "id": "f967459d",
   "metadata": {},
   "outputs": [],
   "source": [
    "splitting_data(df1)"
   ]
  },
  {
   "cell_type": "code",
   "execution_count": 189,
   "id": "3f542c54",
   "metadata": {},
   "outputs": [],
   "source": [
    "tts(x,y)"
   ]
  },
  {
   "cell_type": "code",
   "execution_count": 190,
   "id": "dc596b1a",
   "metadata": {},
   "outputs": [
    {
     "name": "stdout",
     "output_type": "stream",
     "text": [
      "[0.90485992 0.83391868 0.52485309 0.71101473 0.80942346 0.86450946\n",
      " 0.49381827 0.68040455 0.85156988 0.80580699 0.6986973  0.72445795\n",
      " 0.64101212 0.91430187 0.83679415 0.5394429  0.83768226 0.647313\n",
      " 0.54910315 0.59549475 0.67052373 0.58370267 0.7625334  0.77911805\n",
      " 0.75411918 0.64217811 0.93940018 0.85219203 0.61008581 0.7711271\n",
      " 0.57538651 0.71972727 0.53479088 0.86972438 0.64558411 0.73252631\n",
      " 0.57744094 0.95445345 0.6744654  0.7160605  0.9635702  0.6118921\n",
      " 0.6911689  0.85257683 0.92889168 0.61358343 0.93951903 0.83269344\n",
      " 0.79244243 0.93191288 0.92386268 0.58100564 0.74939723 0.52988854\n",
      " 0.93457006 0.5516207  0.94672097 0.73307106 0.70381278 0.54237499\n",
      " 0.69369941 0.70177684 0.61018525 0.60970067 0.46161745 0.55637078\n",
      " 0.8751174  0.89536619 0.66253541 0.70022869 0.6482607  0.77012014\n",
      " 0.69058784 0.5344139  0.57148502 0.64522135 0.82652049 0.85323917\n",
      " 0.52107011 0.67093023 0.7506034  0.87944388 0.62328353 0.86101184\n",
      " 0.72815964 0.63745387 0.62785551 0.71848    0.83486638 0.67921812\n",
      " 0.75345684 0.9099754  0.88626884 0.6456654  0.76635657 0.44144871\n",
      " 0.68145031 0.73180471 0.71638605 0.64300822]\n"
     ]
    }
   ],
   "source": [
    "lin_reg('lr1')"
   ]
  },
  {
   "cell_type": "code",
   "execution_count": 191,
   "id": "3b20a68f",
   "metadata": {},
   "outputs": [
    {
     "data": {
      "text/plain": [
       "0.8309009246041612"
      ]
     },
     "execution_count": 191,
     "metadata": {},
     "output_type": "execute_result"
    }
   ],
   "source": [
    "r_two_score(y_test,a)"
   ]
  },
  {
   "cell_type": "code",
   "execution_count": 192,
   "id": "cd108691",
   "metadata": {},
   "outputs": [
    {
     "name": "stdout",
     "output_type": "stream",
     "text": [
      "[0.9395     0.7682     0.496      0.6754     0.776      0.8886\n",
      " 0.49       0.6847     0.8657     0.7736     0.6729     0.721\n",
      " 0.6577     0.9059     0.8607     0.5319     0.8351     0.6461\n",
      " 0.5529     0.5732     0.694      0.5709     0.74816667 0.7716\n",
      " 0.7683     0.6455     0.9412     0.8321     0.6721     0.74066667\n",
      " 0.5751     0.7055     0.5107     0.8938     0.6335     0.7586\n",
      " 0.5925     0.9444     0.7179     0.6941     0.9547     0.6219\n",
      " 0.6812     0.8098     0.9433     0.6511     0.9414     0.7779\n",
      " 0.75665    0.9454     0.9141     0.6157     0.7206     0.5068\n",
      " 0.9422     0.548      0.9619     0.7375     0.7311     0.4793\n",
      " 0.6399     0.6762     0.6261     0.587775   0.5075     0.542\n",
      " 0.9052     0.916      0.6756     0.6935     0.6779     0.7354\n",
      " 0.6301     0.5718     0.5833     0.6453     0.8366     0.867\n",
      " 0.4946     0.7039     0.706      0.8891     0.6405     0.8389\n",
      " 0.7144     0.638745   0.6364     0.6899     0.7525     0.6946\n",
      " 0.7554     0.9429     0.8995     0.7035     0.7255     0.5034\n",
      " 0.6964     0.6982     0.7059     0.6762    ]\n"
     ]
    }
   ],
   "source": [
    "ranf_reg('rf2')"
   ]
  },
  {
   "cell_type": "code",
   "execution_count": 193,
   "id": "5c2d4009",
   "metadata": {},
   "outputs": [
    {
     "data": {
      "text/plain": [
       "0.8113718384487913"
      ]
     },
     "execution_count": 193,
     "metadata": {},
     "output_type": "execute_result"
    }
   ],
   "source": [
    "r_two_score(y_test,a)"
   ]
  },
  {
   "cell_type": "code",
   "execution_count": 194,
   "id": "819ff91a",
   "metadata": {},
   "outputs": [
    {
     "name": "stdout",
     "output_type": "stream",
     "text": [
      "[0.90666667 0.77791045 0.49590909 0.67059524 0.76491803 0.8905\n",
      " 0.47617886 0.66693548 0.85892857 0.76464286 0.67059524 0.67059524\n",
      " 0.62343434 0.915      0.842      0.49590909 0.77791045 0.62343434\n",
      " 0.52913793 0.58438596 0.62931507 0.58438596 0.74922078 0.75206897\n",
      " 0.72583333 0.61688073 0.92066667 0.83419355 0.59472973 0.76211538\n",
      " 0.58438596 0.66953488 0.55481481 0.8905     0.58899614 0.67398148\n",
      " 0.52865385 0.92066667 0.63686275 0.66666667 0.911      0.5882243\n",
      " 0.63252336 0.83       0.92066667 0.60234043 0.911      0.77791045\n",
      " 0.76509434 0.915      0.915      0.58607362 0.69769231 0.52913793\n",
      " 0.915      0.55481481 0.908      0.67263889 0.67217391 0.52681818\n",
      " 0.65207317 0.63585714 0.57473333 0.58438596 0.47617886 0.52913793\n",
      " 0.90083333 0.908      0.64056911 0.68428571 0.62255814 0.72583333\n",
      " 0.66202703 0.55538462 0.52913793 0.64056911 0.82204082 0.84956522\n",
      " 0.50591667 0.64757143 0.65508197 0.90083333 0.61365    0.83419355\n",
      " 0.67446429 0.5882243  0.62548913 0.66666667 0.77791045 0.64757143\n",
      " 0.69769231 0.908      0.90083333 0.63585714 0.69929293 0.47617886\n",
      " 0.65207317 0.69769231 0.66202703 0.62857143]\n"
     ]
    }
   ],
   "source": [
    "ab_reg('ab2')"
   ]
  },
  {
   "cell_type": "code",
   "execution_count": 195,
   "id": "8c41ea2c",
   "metadata": {},
   "outputs": [
    {
     "data": {
      "text/plain": [
       "0.8051274577013368"
      ]
     },
     "execution_count": 195,
     "metadata": {},
     "output_type": "execute_result"
    }
   ],
   "source": [
    "r_two_score(y_test,a)"
   ]
  },
  {
   "cell_type": "code",
   "execution_count": 201,
   "id": "b7616a55",
   "metadata": {},
   "outputs": [
    {
     "name": "stdout",
     "output_type": "stream",
     "text": [
      "Highest Accuracy : 81%\n"
     ]
    },
    {
     "name": "stderr",
     "output_type": "stream",
     "text": [
      "c:\\users\\dev\\appdata\\local\\programs\\python\\python379\\lib\\site-packages\\sklearn\\linear_model\\_base.py:145: FutureWarning: 'normalize' was deprecated in version 1.0 and will be removed in 1.2.\n",
      "If you wish to scale the data, use Pipeline with a StandardScaler in a preprocessing stage. To reproduce the previous behavior:\n",
      "\n",
      "from sklearn.pipeline import make_pipeline\n",
      "\n",
      "model = make_pipeline(StandardScaler(with_mean=False), LinearRegression())\n",
      "\n",
      "If you wish to pass a sample_weight parameter, you need to pass it as a fit parameter to each step of the pipeline as follows:\n",
      "\n",
      "kwargs = {s[0] + '__sample_weight': sample_weight for s in model.steps}\n",
      "model.fit(X, y, **kwargs)\n",
      "\n",
      "\n",
      "  FutureWarning,\n",
      "c:\\users\\dev\\appdata\\local\\programs\\python\\python379\\lib\\site-packages\\sklearn\\linear_model\\_base.py:145: FutureWarning: 'normalize' was deprecated in version 1.0 and will be removed in 1.2.\n",
      "If you wish to scale the data, use Pipeline with a StandardScaler in a preprocessing stage. To reproduce the previous behavior:\n",
      "\n",
      "from sklearn.pipeline import make_pipeline\n",
      "\n",
      "model = make_pipeline(StandardScaler(with_mean=False), LinearRegression())\n",
      "\n",
      "If you wish to pass a sample_weight parameter, you need to pass it as a fit parameter to each step of the pipeline as follows:\n",
      "\n",
      "kwargs = {s[0] + '__sample_weight': sample_weight for s in model.steps}\n",
      "model.fit(X, y, **kwargs)\n",
      "\n",
      "\n",
      "  FutureWarning,\n",
      "c:\\users\\dev\\appdata\\local\\programs\\python\\python379\\lib\\site-packages\\sklearn\\linear_model\\_base.py:145: FutureWarning: 'normalize' was deprecated in version 1.0 and will be removed in 1.2.\n",
      "If you wish to scale the data, use Pipeline with a StandardScaler in a preprocessing stage. To reproduce the previous behavior:\n",
      "\n",
      "from sklearn.pipeline import make_pipeline\n",
      "\n",
      "model = make_pipeline(StandardScaler(with_mean=False), LinearRegression())\n",
      "\n",
      "If you wish to pass a sample_weight parameter, you need to pass it as a fit parameter to each step of the pipeline as follows:\n",
      "\n",
      "kwargs = {s[0] + '__sample_weight': sample_weight for s in model.steps}\n",
      "model.fit(X, y, **kwargs)\n",
      "\n",
      "\n",
      "  FutureWarning,\n",
      "c:\\users\\dev\\appdata\\local\\programs\\python\\python379\\lib\\site-packages\\sklearn\\linear_model\\_base.py:145: FutureWarning: 'normalize' was deprecated in version 1.0 and will be removed in 1.2.\n",
      "If you wish to scale the data, use Pipeline with a StandardScaler in a preprocessing stage. To reproduce the previous behavior:\n",
      "\n",
      "from sklearn.pipeline import make_pipeline\n",
      "\n",
      "model = make_pipeline(StandardScaler(with_mean=False), LinearRegression())\n",
      "\n",
      "If you wish to pass a sample_weight parameter, you need to pass it as a fit parameter to each step of the pipeline as follows:\n",
      "\n",
      "kwargs = {s[0] + '__sample_weight': sample_weight for s in model.steps}\n",
      "model.fit(X, y, **kwargs)\n",
      "\n",
      "\n",
      "  FutureWarning,\n",
      "c:\\users\\dev\\appdata\\local\\programs\\python\\python379\\lib\\site-packages\\sklearn\\linear_model\\_base.py:145: FutureWarning: 'normalize' was deprecated in version 1.0 and will be removed in 1.2.\n",
      "If you wish to scale the data, use Pipeline with a StandardScaler in a preprocessing stage. To reproduce the previous behavior:\n",
      "\n",
      "from sklearn.pipeline import make_pipeline\n",
      "\n",
      "model = make_pipeline(StandardScaler(with_mean=False), LinearRegression())\n",
      "\n",
      "If you wish to pass a sample_weight parameter, you need to pass it as a fit parameter to each step of the pipeline as follows:\n",
      "\n",
      "kwargs = {s[0] + '__sample_weight': sample_weight for s in model.steps}\n",
      "model.fit(X, y, **kwargs)\n",
      "\n",
      "\n",
      "  FutureWarning,\n"
     ]
    }
   ],
   "source": [
    "# Using cross_val_score for gaining highest accuracy\n",
    "from sklearn.model_selection import cross_val_score\n",
    "scores = cross_val_score(LinearRegression(normalize=True), x, y, cv=5)\n",
    "print('Highest Accuracy : {}%'.format(round(sum(scores)*100/len(scores)), 3))"
   ]
  },
  {
   "cell_type": "code",
   "execution_count": 202,
   "id": "b18f1143",
   "metadata": {},
   "outputs": [
    {
     "name": "stderr",
     "output_type": "stream",
     "text": [
      "c:\\users\\dev\\appdata\\local\\programs\\python\\python379\\lib\\site-packages\\sklearn\\linear_model\\_base.py:145: FutureWarning: 'normalize' was deprecated in version 1.0 and will be removed in 1.2.\n",
      "If you wish to scale the data, use Pipeline with a StandardScaler in a preprocessing stage. To reproduce the previous behavior:\n",
      "\n",
      "from sklearn.pipeline import make_pipeline\n",
      "\n",
      "model = make_pipeline(StandardScaler(with_mean=False), LinearRegression())\n",
      "\n",
      "If you wish to pass a sample_weight parameter, you need to pass it as a fit parameter to each step of the pipeline as follows:\n",
      "\n",
      "kwargs = {s[0] + '__sample_weight': sample_weight for s in model.steps}\n",
      "model.fit(X, y, **kwargs)\n",
      "\n",
      "\n",
      "  FutureWarning,\n"
     ]
    },
    {
     "data": {
      "text/plain": [
       "0.818843256782963"
      ]
     },
     "execution_count": 202,
     "metadata": {},
     "output_type": "execute_result"
    }
   ],
   "source": [
    "# Creating Linear Regression Model\n",
    "model = LinearRegression(normalize=True)\n",
    "model.fit(x_train, y_train)\n",
    "model.score(x_test, y_test)"
   ]
  },
  {
   "cell_type": "code",
   "execution_count": null,
   "id": "27912453",
   "metadata": {},
   "outputs": [],
   "source": [
    "from sklearn.tree import DecisionTreeClassifier"
   ]
  }
 ],
 "metadata": {
  "kernelspec": {
   "display_name": "Python 3 (ipykernel)",
   "language": "python",
   "name": "python3"
  },
  "language_info": {
   "codemirror_mode": {
    "name": "ipython",
    "version": 3
   },
   "file_extension": ".py",
   "mimetype": "text/x-python",
   "name": "python",
   "nbconvert_exporter": "python",
   "pygments_lexer": "ipython3",
   "version": "3.7.9"
  }
 },
 "nbformat": 4,
 "nbformat_minor": 5
}
